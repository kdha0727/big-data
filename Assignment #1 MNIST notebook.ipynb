{
 "cells": [
  {
   "cell_type": "markdown",
   "metadata": {
    "pycharm": {
     "name": "#%% md\n"
    }
   },
   "source": [
    "Class Information: Yonsei University CSI4121 2021-1 \\\n",
    "Student Information: Dongha Kim \\\n",
    "　　"
   ]
  },
  {
   "cell_type": "markdown",
   "metadata": {},
   "source": [
    "This report is about MLP model implement of MNIST dataset. \\\n",
    "In this report, there are code explanation of each implement, \\\n",
    "and evaluation of model performance.\n",
    "\n",
    "###### this report's code requires python version upper than 3.7!"
   ]
  },
  {
   "cell_type": "markdown",
   "metadata": {},
   "source": [
    "## Configuration\n",
    "\n",
    "You can config script's options by modifying options below."
   ]
  },
  {
   "cell_type": "code",
   "execution_count": 1,
   "metadata": {
    "pycharm": {
     "name": "#%%\n"
    }
   },
   "outputs": [],
   "source": [
    "#\n",
    "# Configurations\n",
    "#\n",
    "\n",
    "# Model Configuration\n",
    "BATCH_SIZE = 64\n",
    "TEST_BATCH_SIZE = 1000\n",
    "LEARNING_RATE = 1e0\n",
    "LEARNING_RATE_STEP_GAMMA = 7e-1\n",
    "USE_CUDA = False\n",
    "\n",
    "# File I/O Configuration\n",
    "BASE_DIR = './'\n",
    "DATASET_FOLDER = 'data'\n",
    "\n",
    "# Learning Verbosity Configuration\n",
    "VERBOSE = False"
   ]
  },
  {
   "cell_type": "markdown",
   "metadata": {
    "pycharm": {
     "name": "#%% md\n"
    }
   },
   "source": [
    "This code below is internal codes. \\\n",
    "In this portion, frameworks are loaded and MNIST datasets are downloaded."
   ]
  },
  {
   "cell_type": "code",
   "execution_count": 2,
   "metadata": {
    "pycharm": {
     "name": "#%%\n"
    }
   },
   "outputs": [
    {
     "name": "stdout",
     "output_type": "stream",
     "text": [
      "OS version: \t\tWindows-10-10.0.19041-SP0\n",
      "Python version:\t\t3.8.5 (default, Sep  3 2020, 21:29:08) [MSC v.1916 64 bit (AMD64)]\n",
      "Torch version:\t\t1.8.1\n"
     ]
    }
   ],
   "source": [
    "#\n",
    "# Imports and internal prepares\n",
    "#\n",
    "\n",
    "# Framework import\n",
    "import torch\n",
    "import torch.nn\n",
    "import torch.nn.functional\n",
    "import torch.optim\n",
    "import torch.utils.data\n",
    "import torchvision\n",
    "\n",
    "# Utility import\n",
    "import sys\n",
    "import os\n",
    "import collections\n",
    "import functools\n",
    "import platform\n",
    "import matplotlib.pyplot as plt\n",
    "\n",
    "# Download and load datasets\n",
    "_DATASET_DIR = os.path.join(BASE_DIR, DATASET_FOLDER)\n",
    "_t = torchvision.transforms.ToTensor()\n",
    "_TRAIN_DATA = torchvision.datasets.MNIST(\n",
    "    root=_DATASET_DIR, train=True, download=True, transform=_t)\n",
    "_TEST_DATA = torchvision.datasets.MNIST(\n",
    "    root=_DATASET_DIR, train=False, download=True, transform=_t)\n",
    "del _t\n",
    "\n",
    "# Prepare cuda-related variables\n",
    "_USE_CUDA = USE_CUDA and torch.cuda.is_available()\n",
    "_DEVICE = torch.device(\"cuda\" if _USE_CUDA else \"cpu\")\n",
    "_EXTRA_KWARGS = {'pin_memory': True, 'num_workers': 1} if _USE_CUDA else {}\n",
    "\n",
    "# Environment check\n",
    "print(\n",
    "    \"OS version: \\t\\t{0}\\nPython version:\\t\\t{1}\\nTorch version:\\t\\t{2}\"\n",
    "        .format(platform.platform(), sys.version, torch.__version__)\n",
    ")\n"
   ]
  },
  {
   "cell_type": "markdown",
   "metadata": {
    "pycharm": {
     "name": "#%% md\n"
    }
   },
   "source": [
    "# Implements"
   ]
  },
  {
   "cell_type": "markdown",
   "metadata": {},
   "source": [
    "## Implement of MLP Model\n",
    "I implemented MLP model with five linear perceptron layers, \\\n",
    "relu functions for activation, and cross entropy error for loss function. \\\n",
    "(loss function, implement is not in model class, but in train function impl.) \\\n",
    "\\\n",
    "I added two methods that can save and load weight parameters to or from .pt file."
   ]
  },
  {
   "cell_type": "code",
   "execution_count": 3,
   "metadata": {
    "pycharm": {
     "name": "#%%\n"
    }
   },
   "outputs": [],
   "source": [
    "#\n",
    "# Model implements\n",
    "#\n",
    "\n",
    "class Net(torch.nn.Module):\n",
    "    \"\"\"\n",
    "Implement of MLP Model.\n",
    "\n",
    "I implemented MLP model with five linear perceptron layers,\n",
    "relu functions for activation, and cross entropy error for loss function.\n",
    "\n",
    "I added two methods that can save and load weight parameters to or from .pt file.\n",
    "\"\"\"\n",
    "\n",
    "    # Class method that can initialize directly from .pt filename\n",
    "    @classmethod\n",
    "    def initialize_from_pt(cls, filename):\n",
    "        self = cls()\n",
    "        self.load_from_pt(filename)\n",
    "        return self\n",
    "\n",
    "    # Method that saves weight parameters into .pt file\n",
    "    def save_to_pt(self, filename):\n",
    "        torch.save(self.state_dict(), filename)\n",
    "\n",
    "    # Method that loads weight parameters from .pt file\n",
    "    def load_from_pt(self, filename):\n",
    "        self.load_state_dict(torch.load(filename))\n",
    "        self.eval()\n",
    "\n",
    "    # Constructor\n",
    "    # Register layers in constructor\n",
    "    def __init__(self, pt_filename=None):\n",
    "        super(Net, self).__init__()\n",
    "        # I used ordered dict for convenience in forward method\n",
    "        self.relu_layers = relu_layers = collections.OrderedDict()\n",
    "        self.l1 = relu_layers['l1'] = torch.nn.Linear(784, 520)\n",
    "        self.l2 = relu_layers['l2'] = torch.nn.Linear(520, 320)\n",
    "        self.l3 = relu_layers['l3'] = torch.nn.Linear(320, 240)\n",
    "        self.l4 = relu_layers['l4'] = torch.nn.Linear(240, 120)\n",
    "        self.lf = torch.nn.Linear(120, 10)\n",
    "        # .pt file mode\n",
    "        if pt_filename is not None:\n",
    "            self.load_from_pt(pt_filename)\n",
    "\n",
    "    # Implement forward\n",
    "    def forward(self, x):\n",
    "        x = x.view(-1, 784)\n",
    "        for layer in self.relu_layers.values():\n",
    "            x = torch.nn.functional.relu(layer(x))\n",
    "        return self.lf(x)\n",
    "\n",
    "    # Backward will be implemented automatically,\n",
    "    # by the pytorch framework itself.\n"
   ]
  },
  {
   "cell_type": "markdown",
   "metadata": {
    "pycharm": {
     "name": "#%% md\n"
    }
   },
   "source": [
    "## Implement of train / test functions\n",
    "Next to the MLP model, I implemented train and test functions. \\\n",
    "Since pytorch has autograd feature, training and testing process can occur \\\n",
    "with some simple operations."
   ]
  },
  {
   "cell_type": "code",
   "execution_count": 4,
   "metadata": {
    "pycharm": {
     "name": "#%%\n"
    }
   },
   "outputs": [],
   "source": [
    "#\n",
    "# Train / Test function implements\n",
    "#\n",
    "\n",
    "\n",
    "def _no_grad(function):\n",
    "    \"\"\"Decorator that stops autograd when being run\"\"\"\n",
    "    # Since test function doesn't require autograd,\n",
    "    #\n",
    "    @functools.wraps(function)\n",
    "    def decorated_func(*args, **kwargs):\n",
    "        with torch.no_grad():\n",
    "            return function(*args, **kwargs)\n",
    "    return decorated_func\n",
    "\n",
    "\n",
    "def train_model(\n",
    "    model, train_loader, optimizer, \n",
    "    device=None, log_hook=None, log_interval=10\n",
    "):\n",
    "    \"\"\"\n",
    "    Training function with using model, data loader, optimizer.\n",
    "\n",
    "    :param model: torch.nn.Module\n",
    "    :param train_loader: torch.utils.data.DataLoader\n",
    "    :param optimizer: torch.optim.Optimizer\n",
    "    :param device: (optional) when using cuda, you can supply torch.device object.\n",
    "    :param log_hook: (optional) when logging into stdout or gui, you can supply\n",
    "                    logging hook callable, or class that has 'train' attribute\n",
    "    :param log_interval: (optional) supply when using log hook. default is 10\n",
    "\n",
    "    :return: None\n",
    "    \"\"\"\n",
    "    # Set train mode\n",
    "    model.train()\n",
    "    # Iteration\n",
    "    for iteration, (data, target) in enumerate(train_loader):\n",
    "        # Convert device\n",
    "        if device is not None:\n",
    "            data, target = data.to(device), target.to(device)\n",
    "        # Zero grad\n",
    "        optimizer.zero_grad()\n",
    "        # Calculate with model and evaluate (forward propagation)\n",
    "        output = model(data)  # Calculate by calling model\n",
    "        loss = torch.nn.functional.cross_entropy(output, target)  # Evaluate\n",
    "        # Optimize model by gradient (backward propagation)\n",
    "        loss.backward()  # get gradient with backward propagation\n",
    "        optimizer.step()  # step: optimize weight params with gradient\n",
    "        # Log train information\n",
    "        if iteration % log_interval == 0 and log_hook is not None:\n",
    "            getattr(log_hook, 'train', log_hook)(loss, iteration)\n",
    "\n",
    "\n",
    "@_no_grad  # stop autograd progress\n",
    "def test_model(\n",
    "    model, test_loader, \n",
    "    device=None, log_hook=None\n",
    "):\n",
    "    \"\"\"\n",
    "    Testing function with using model, data loader.\n",
    "\n",
    "    :param model: torch.nn.Module\n",
    "    :param test_loader: torch.utils.data.DataLoader\n",
    "    :param device: (optional) when using cuda, you can supply torch.device object.\n",
    "    :param log_hook: (optional) when logging into stdout or gui, you can supply\n",
    "                    logging hook callable, or class that has 'test' attribute\n",
    "\n",
    "    :return: None\n",
    "    \"\"\"\n",
    "    # Set test mode\n",
    "    model.eval()\n",
    "    # Initialize values\n",
    "    test_loss = []\n",
    "    correct = 0\n",
    "    # Iteration\n",
    "    for data, target in test_loader:\n",
    "        # Convert device\n",
    "        if device is not None:\n",
    "            data, target = data.to(device), target.to(device)\n",
    "        # Calculate with model\n",
    "        output = model(data)\n",
    "        # Append test-loss value\n",
    "        test_loss.append(torch.nn.functional.cross_entropy(output, target, reduction='sum').item())\n",
    "        # Add accuracy count\n",
    "        prediction = output.argmax(dim=1, keepdim=True)\n",
    "        correct += prediction.eq(target.view_as(prediction)).sum().item()\n",
    "    # Calculate average test loss\n",
    "    test_loss = sum(test_loss) / len(test_loader.dataset)\n",
    "    # Log test information\n",
    "    if log_hook is not None:\n",
    "        getattr(log_hook, 'test', log_hook)(test_loss, correct)\n",
    "    return test_loss, correct / len(test_loader.dataset)\n"
   ]
  },
  {
   "cell_type": "markdown",
   "metadata": {
    "pycharm": {
     "name": "#%% md\n"
    }
   },
   "source": [
    "## Implement of utilities\n",
    "Please read comments."
   ]
  },
  {
   "cell_type": "code",
   "execution_count": 5,
   "metadata": {
    "pycharm": {
     "name": "#%%\n"
    }
   },
   "outputs": [],
   "source": [
    "#\n",
    "# Utility functions / classes\n",
    "#\n",
    "\n",
    "# Data loader function that allows partial using of train datasets.\n",
    "# This assignment requires partial of training data,\n",
    "# so I implemented this by providing data-loader getter function,\n",
    "# which by given input rate, returns partial train data loader and\n",
    "# whole test data loader. (since test datasets don't have to be partial)\n",
    "# This could be implemented by data sampler (torch.utils.sampler.SubsetRandomSampler)\n",
    "\n",
    "def get_data_loaders(train_data_rate=1.0):\n",
    "    \"\"\"Prepare partial train data loader, and whole test data loader.\"\"\"\n",
    "    assert 0 <= train_data_rate <= 1\n",
    "    train_data_length = len(_TRAIN_DATA)\n",
    "    sampler = torch.utils.data.sampler.SubsetRandomSampler(\n",
    "        indices=torch.randperm(train_data_length)\n",
    "        [:int(train_data_length * train_data_rate)]\n",
    "    )\n",
    "    train_loader = torch.utils.data.DataLoader(\n",
    "        _TRAIN_DATA, sampler=sampler, batch_size=BATCH_SIZE, \n",
    "        **_EXTRA_KWARGS, shuffle=False,\n",
    "    )\n",
    "    test_loader = torch.utils.data.DataLoader(\n",
    "        _TEST_DATA, batch_size=TEST_BATCH_SIZE, \n",
    "        **_EXTRA_KWARGS, shuffle=True,\n",
    "    )\n",
    "    return train_loader, test_loader\n",
    "\n",
    "\n",
    "# Logging hooks that leave logs when training and testing in each epoch.\n",
    "\n",
    "class ReporthookBase(object):\n",
    "    \"\"\"Base of logging hook.\"\"\"\n",
    "\n",
    "    def train(self, *args, **kwargs):\n",
    "        raise NotImplementedError\n",
    "\n",
    "    def test(self, *args, **kwargs):\n",
    "        raise NotImplementedError\n",
    "\n",
    "\n",
    "# Stdout logging hook.\n",
    "# You can view log by enabling VERBOSE option.\n",
    "\n",
    "class StdoutReporthook(ReporthookBase):\n",
    "    \"\"\"Logging hook that leave logs in stdout.\"\"\"\n",
    "\n",
    "    # Constructor. initialized in each epoch.\n",
    "    def __init__(self, epoch, train_loader, test_loader, stream=None):\n",
    "        self.train_batch_size = train_loader.batch_size\n",
    "        self.train_loader_length = len(train_loader)\n",
    "        self.train_dataset_length = (\n",
    "            len(train_loader.sampler.indices)\n",
    "            if getattr(train_loader, 'sampler', None) is not None else\n",
    "            len(train_loader.dataset)\n",
    "        )\n",
    "        self.test_dataset_length = len(test_loader.dataset)\n",
    "        self.log(f'Epoch {epoch}', end='\\n')\n",
    "        if stream is not None:\n",
    "            self.stream = stream\n",
    "\n",
    "    # Logging method that is used in train function\n",
    "    def train(self, loss, iteration, data=None):\n",
    "        data_length = len(data) if data is not None else self.train_batch_size\n",
    "        message = (\n",
    "            f'\\r[Train]\\t '\n",
    "            f'Progress: {iteration * data_length}/{self.train_dataset_length} '\n",
    "            f'({100. * iteration / self.train_loader_length:.2f}%), '\n",
    "            f'\\tLoss: {loss.item():.6f}'\n",
    "        )\n",
    "        self.log(message, end=' ')\n",
    "\n",
    "    # Logging method that is used in test function\n",
    "    def test(self, loss, correct):\n",
    "        message = (\n",
    "            f'\\n[Test]\\t '\n",
    "            f'Average loss: {loss:.5f}, '\n",
    "            f'\\t\\tTotal accuracy: {correct}/{self.test_dataset_length} '\n",
    "            f'({100. * correct / self.test_dataset_length:.2f}%)'\n",
    "        )\n",
    "        self.log(message, end='\\n\\n')\n",
    "\n",
    "    # # Base log method using stream\n",
    "    # def log(self, message, *, end='\\n'):\n",
    "    #     self.stream.write(message)\n",
    "    #     self.stream.write(end)\n",
    "    #     self.stream.flush()\n",
    "    #\n",
    "    # stream = sys.stdout\n",
    "\n",
    "    log = staticmethod(print)  # In notebook, using built-in is better\n"
   ]
  },
  {
   "cell_type": "markdown",
   "metadata": {
    "pycharm": {
     "name": "#%% md\n"
    }
   },
   "source": [
    "## Implement of actual model-learn function\n",
    "All features are integrated in this function. \\\n",
    "I used Adadelta for optimizer, and StepLR for scheduler.\n"
   ]
  },
  {
   "cell_type": "code",
   "execution_count": 6,
   "metadata": {
    "pycharm": {
     "name": "#%%\n"
    }
   },
   "outputs": [],
   "source": [
    "#\n",
    "# Actual running model-learn function implement\n",
    "#\n",
    "\n",
    "def run_model_learning(epoch=14, train_data_rate=1.0, verbose=False, filename=None):\n",
    "    \"\"\"\n",
    "    ACTUAL function that executes model learning, by given epoch and train data ratio.\n",
    "\n",
    "    :param epoch: (int) epochs\n",
    "    :param train_data_rate: (float)\n",
    "    :param verbose: (bool) verbosity. with turning it on, you can view learning logs.\n",
    "    :param filename: (str) In this path name, model's weight parameter will be saved.\n",
    "\n",
    "    :return: dictionary that includes model class, accuracy, cross-entropy loss.\n",
    "    \"\"\"\n",
    "\n",
    "    # Prepare datasets\n",
    "    train_loader, test_loader = get_data_loaders(train_data_rate=train_data_rate)\n",
    "\n",
    "    # Initialize model\n",
    "    model = Net().to(_DEVICE)\n",
    "\n",
    "    # I used Adadelta for optimizer, and StepLR for scheduler.\n",
    "    optimizer = torch.optim.Adadelta(\n",
    "        model.parameters(), lr=LEARNING_RATE\n",
    "    )\n",
    "    scheduler = torch.optim.lr_scheduler.StepLR(\n",
    "        optimizer, step_size=1, gamma=LEARNING_RATE_STEP_GAMMA\n",
    "    )\n",
    "\n",
    "    if verbose:\n",
    "        print(\n",
    "            f\"\\n<Start Learning> epoch: {epoch}, \"\n",
    "            f\"used train data: {100 * train_data_rate:.2f}%\",\n",
    "            end='\\n\\n'\n",
    "        )\n",
    "\n",
    "    l, a = None, None  # reset loss and accuracy\n",
    "\n",
    "    # In each epoch,\n",
    "    for index in range(1, epoch + 1):\n",
    "        # If verbose mode, activate logging hook\n",
    "        if verbose:\n",
    "            reporthook = StdoutReporthook(index, train_loader, test_loader)\n",
    "        else:\n",
    "            reporthook = None\n",
    "        # Train and test model.\n",
    "        train_model(\n",
    "            model, train_loader, optimizer, device=_DEVICE, log_hook=reporthook\n",
    "        )\n",
    "        l, a = test_model(\n",
    "            model, test_loader, device=_DEVICE, log_hook=reporthook\n",
    "        )\n",
    "        scheduler.step()\n",
    "\n",
    "    if filename is not None:\n",
    "        model.save_to_pt(filename)\n",
    "\n",
    "    return {'model': model, 'accuracy': a, 'loss': l}\n"
   ]
  },
  {
   "cell_type": "markdown",
   "metadata": {
    "pycharm": {
     "name": "#%% md\n"
    }
   },
   "source": [
    "Example result of model-learn function:"
   ]
  },
  {
   "cell_type": "code",
   "execution_count": 7,
   "metadata": {
    "pycharm": {
     "name": "#%%\n"
    }
   },
   "outputs": [
    {
     "name": "stdout",
     "output_type": "stream",
     "text": [
      "\n",
      "<Start Learning> epoch: 14, used train data: 100.00%\n",
      "\n",
      "Epoch 1\n",
      "[Train]\t Progress: 59520/60000 (99.15%), \tLoss: 0.066301       \n",
      "[Test]\t Average loss: 0.14613, \t\tTotal accuracy: 9564/10000 (95.64%)\n",
      "\n",
      "Epoch 2\n",
      "[Train]\t Progress: 59520/60000 (99.15%), \tLoss: 0.144302   \n",
      "[Test]\t Average loss: 0.08813, \t\tTotal accuracy: 9737/10000 (97.37%)\n",
      "\n",
      "Epoch 3\n",
      "[Train]\t Progress: 59520/60000 (99.15%), \tLoss: 0.101095          \n",
      "[Test]\t Average loss: 0.07423, \t\tTotal accuracy: 9784/10000 (97.84%)\n",
      "\n",
      "Epoch 4\n",
      "[Train]\t Progress: 59520/60000 (99.15%), \tLoss: 0.023855 \n",
      "[Test]\t Average loss: 0.06320, \t\tTotal accuracy: 9833/10000 (98.33%)\n",
      "\n",
      "Epoch 5\n",
      "[Train]\t Progress: 59520/60000 (99.15%), \tLoss: 0.007311    \n",
      "[Test]\t Average loss: 0.06316, \t\tTotal accuracy: 9846/10000 (98.46%)\n",
      "\n",
      "Epoch 6\n",
      "[Train]\t Progress: 59520/60000 (99.15%), \tLoss: 0.065533  \n",
      "[Test]\t Average loss: 0.06287, \t\tTotal accuracy: 9844/10000 (98.44%)\n",
      "\n",
      "Epoch 7\n",
      "[Train]\t Progress: 59520/60000 (99.15%), \tLoss: 0.003721      \n",
      "[Test]\t Average loss: 0.06479, \t\tTotal accuracy: 9856/10000 (98.56%)\n",
      "\n",
      "Epoch 8\n",
      "[Train]\t Progress: 59520/60000 (99.15%), \tLoss: 0.002473     \n",
      "[Test]\t Average loss: 0.06437, \t\tTotal accuracy: 9858/10000 (98.58%)\n",
      "\n",
      "Epoch 9\n",
      "[Train]\t Progress: 59520/60000 (99.15%), \tLoss: 0.000126   \n",
      "[Test]\t Average loss: 0.06562, \t\tTotal accuracy: 9861/10000 (98.61%)\n",
      "\n",
      "Epoch 10\n",
      "[Train]\t Progress: 59520/60000 (99.15%), \tLoss: 0.002917      \n",
      "[Test]\t Average loss: 0.06599, \t\tTotal accuracy: 9857/10000 (98.57%)\n",
      "\n",
      "Epoch 11\n",
      "[Train]\t Progress: 59520/60000 (99.15%), \tLoss: 0.002088      \n",
      "[Test]\t Average loss: 0.06692, \t\tTotal accuracy: 9859/10000 (98.59%)\n",
      "\n",
      "Epoch 12\n",
      "[Train]\t Progress: 59520/60000 (99.15%), \tLoss: 0.000724           \n",
      "[Test]\t Average loss: 0.06723, \t\tTotal accuracy: 9854/10000 (98.54%)\n",
      "\n",
      "Epoch 13\n",
      "[Train]\t Progress: 59520/60000 (99.15%), \tLoss: 0.000079      \n",
      "[Test]\t Average loss: 0.06751, \t\tTotal accuracy: 9857/10000 (98.57%)\n",
      "\n",
      "Epoch 14\n",
      "[Train]\t Progress: 59520/60000 (99.15%), \tLoss: 0.000412     \n",
      "[Test]\t Average loss: 0.06764, \t\tTotal accuracy: 9858/10000 (98.58%)\n",
      "\n"
     ]
    },
    {
     "data": {
      "text/plain": "{'model': Net(\n   (l1): Linear(in_features=784, out_features=520, bias=True)\n   (l2): Linear(in_features=520, out_features=320, bias=True)\n   (l3): Linear(in_features=320, out_features=240, bias=True)\n   (l4): Linear(in_features=240, out_features=120, bias=True)\n   (lf): Linear(in_features=120, out_features=10, bias=True)\n ),\n 'accuracy': 0.9858,\n 'loss': 0.06763812141418457}"
     },
     "execution_count": 7,
     "metadata": {},
     "output_type": "execute_result"
    }
   ],
   "source": [
    "run_model_learning(verbose=True)"
   ]
  },
  {
   "cell_type": "markdown",
   "metadata": {
    "pycharm": {
     "name": "#%% md\n"
    }
   },
   "source": [
    "# Evaluation of Model Performance\n",
    "Now we can evaluate model performance, \\\n",
    "with different portion of train data and epochs."
   ]
  },
  {
   "cell_type": "markdown",
   "metadata": {},
   "source": [
    "### Prepare graph data"
   ]
  },
  {
   "cell_type": "code",
   "execution_count": 8,
   "metadata": {
    "pycharm": {
     "name": "#%%\n"
    }
   },
   "outputs": [],
   "source": [
    "epochs = (1, 5, 10)\n",
    "\n",
    "accuracy_graph_dict, loss_graph_dict = {}, {}\n",
    "\n",
    "for each_epoch in epochs:\n",
    "    x_ = list(range(5, 100 + 1, 5))\n",
    "    y_acc, y_los = [], []\n",
    "    for rate_integer in x_:\n",
    "        result = run_model_learning(\n",
    "            epoch=each_epoch, train_data_rate=rate_integer / 100, verbose=VERBOSE\n",
    "        )\n",
    "        y_acc.append(result['accuracy'] * 100)\n",
    "        y_los.append(result['loss'])\n",
    "    accuracy_graph_dict[each_epoch], loss_graph_dict[each_epoch] = \\\n",
    "        (x_, y_acc), (x_, y_los)\n"
   ]
  },
  {
   "cell_type": "markdown",
   "metadata": {
    "pycharm": {
     "name": "#%% md\n"
    }
   },
   "source": [
    "## Loss - Train dataset Graph"
   ]
  },
  {
   "cell_type": "code",
   "execution_count": 9,
   "metadata": {
    "pycharm": {
     "name": "#%%\n"
    }
   },
   "outputs": [
    {
     "data": {
      "text/plain": "<Figure size 432x288 with 1 Axes>",
      "image/png": "[encoded data removed]"
     },
     "metadata": {
      "needs_background": "light"
     },
     "output_type": "display_data"
    }
   ],
   "source": [
    "# Loss - Train dataset Graph\n",
    "\n",
    "for each_epoch in epochs:\n",
    "    plt.plot(*loss_graph_dict[each_epoch], label='epoch: {}'.format(each_epoch))\n",
    "plt.xlabel('Train dataset (%)')\n",
    "plt.ylabel('Loss')\n",
    "plt.title('Loss - Train dataset Graph')\n",
    "plt.legend()\n",
    "plt.show()\n"
   ]
  },
  {
   "cell_type": "markdown",
   "metadata": {
    "pycharm": {
     "name": "#%% md\n"
    }
   },
   "source": [
    "## Accuracy - Train dataset Graph"
   ]
  },
  {
   "cell_type": "code",
   "execution_count": 10,
   "metadata": {
    "pycharm": {
     "name": "#%%\n"
    }
   },
   "outputs": [
    {
     "data": {
      "text/plain": "<Figure size 432x288 with 1 Axes>",
      "image/png": "[encoded data removed]"
     },
     "metadata": {
      "needs_background": "light"
     },
     "output_type": "display_data"
    }
   ],
   "source": [
    "# Accuracy - Train dataset Graph\n",
    "\n",
    "for each_epoch in epochs:\n",
    "    plt.plot(*accuracy_graph_dict[each_epoch], label='epoch: {}'.format(each_epoch))\n",
    "plt.xlabel('Train dataset (%)')\n",
    "plt.ylabel('Accuracy (%)')\n",
    "plt.title('Accuracy - Train dataset Graph')\n",
    "plt.legend()\n",
    "plt.show()\n"
   ]
  },
  {
   "cell_type": "markdown",
   "metadata": {
    "pycharm": {
     "name": "#%% md\n"
    }
   },
   "source": [
    "When loss value is lower and accuracy value is higher, we think that the performance of model is greater. \\\n",
    "Thus, the thing we can see in these graphs is when using more train data set, we can get greater performance of model. \\\n",
    "When using different optimizers (ex. Adagrad, Adam, ...), output will be different."
   ]
  },
  {
   "cell_type": "code",
   "execution_count": 10,
   "metadata": {},
   "outputs": [],
   "source": []
  }
 ],
 "metadata": {
  "kernelspec": {
   "name": "python3",
   "language": "python",
   "display_name": "Python 3"
  },
  "language_info": {
   "codemirror_mode": {
    "name": "ipython",
    "version": 3
   },
   "file_extension": ".py",
   "mimetype": "text/x-python",
   "name": "python",
   "nbconvert_exporter": "python",
   "pygments_lexer": "ipython3",
   "version": "3.8.5"
  }
 },
 "nbformat": 4,
 "nbformat_minor": 1
}