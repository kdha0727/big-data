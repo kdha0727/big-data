{
 "cells": [
  {
   "cell_type": "markdown",
   "metadata": {
    "collapsed": true,
    "pycharm": {
     "name": "#%% md\n"
    }
   },
   "source": [
    "Class Information: Yonsei University CSI4121 2021-1 \\\n",
    "Student Information: Dongha Kim\n",
    "　　"
   ]
  },
  {
   "cell_type": "markdown",
   "metadata": {},
   "source": [
    "This report is about an implement of min-hashing. \\\n",
    "In this report, there are code explanation about how I implemented min-hashing, \\\n",
    "(docstrings, comments, and markdowns), and evaluations of errors \\\n",
    "between Jaccard similarity and estimated similarity.\n",
    "\n",
    "###### this report's code requires python version upper than 3.7!"
   ]
  },
  {
   "cell_type": "markdown",
   "metadata": {},
   "source": [
    "## Internal code - library information and system information"
   ]
  },
  {
   "cell_type": "markdown",
   "metadata": {
    "pycharm": {
     "name": "#%% md\n"
    }
   },
   "source": [
    "This code below is internal codes. \\\n",
    "In this portion, modules are loaded and datasets are prepared."
   ]
  },
  {
   "cell_type": "code",
   "execution_count": 1,
   "metadata": {
    "pycharm": {
     "name": "#%%\n"
    }
   },
   "outputs": [
    {
     "name": "stdout",
     "output_type": "stream",
     "text": [
      "ENVIRONMENT INFORMATION\n",
      "OS version: \t\tWindows-10-10.0.19041-SP0\n",
      "Python version:\t\t3.8.5 (default, Sep  3 2020, 21:29:08) [MSC v.1916 64 bit (AMD64)]\n",
      "\n"
     ]
    }
   ],
   "source": [
    "#\n",
    "# Import modules and prepare datasets\n",
    "#\n",
    "\n",
    "# Framework and Utility import\n",
    "import sys\n",
    "import binascii\n",
    "import functools\n",
    "import platform\n",
    "import random\n",
    "import re\n",
    "import time\n",
    "import pandas as pd\n",
    "import matplotlib.pyplot as plt\n",
    "\n",
    "# Typing\n",
    "try:\n",
    "    import typing, types\n",
    "except ImportError:\n",
    "    typing = types = None\n",
    "\n",
    "\n",
    "# Prepare Datasets\n",
    "train_data = pd.read_csv('data/train.csv')\n",
    "duplicate_data = train_data[train_data['is_duplicate'] == 1][['question1', 'question2']]\n",
    "\n",
    "/\n",
    "# Environment check\n",
    "print(\n",
    "    \"ENVIRONMENT INFORMATION\\nOS version: \\t\\t{0}\\nPython version:\\t\\t{1}\\n\"\n",
    "        .format(platform.platform(), sys.version)\n",
    ")\n"
   ]
  },
  {
   "cell_type": "markdown",
   "metadata": {},
   "source": [
    "# Implements of min-hashing"
   ]
  },
  {
   "cell_type": "markdown",
   "metadata": {},
   "source": [
    "## Getters of Corpus, Shingling Vocabulary, Shingling-based integer matrix\n",
    "I implemented partial getters. In docstrings and comments, there are explanations of how they work."
   ]
  },
  {
   "cell_type": "code",
   "execution_count": 2,
   "metadata": {
    "pycharm": {
     "name": "#%%\n"
    }
   },
   "outputs": [],
   "source": [
    "#\n",
    "# Prepare corpus getter function. This function picks number of duplicated questions randomly.\n",
    "#\n",
    "\n",
    "def random_duplicate_questions(num, override_index=True, origin=duplicate_data):\n",
    "    # type: (int, typing.Optional[bool], typing.Optional[pd.DataFrame]) -> pd.DataFrame\n",
    "    \"\"\"Prepares duplicated questions randomly.\n",
    ":param num: number of questions\n",
    ":param override_index: if true, override index value of pandas dataset\n",
    ":param origin: origin of pandas datasets.\"\"\"\n",
    "    sample = origin.sample(num)\n",
    "    if override_index:\n",
    "        sample.index = list(range(num))\n",
    "    return sample\n",
    "\n",
    "\n",
    "#\n",
    "# Prepare function that converts vocabulary to integer value. With this, we can make matrix.\n",
    "#\n",
    "\n",
    "# src: https://github.com/ppw0/minhash\n",
    "# src: https://docs.python.org/ko/3/library/binascii.html\n",
    "CRC32_MAX_HASH = 0xffffffff # the maximum hash number a shingle can have\n",
    "CRC32_C = 4294967311 # next prime number larger than MAXHASH\n",
    "\n",
    "def CRC32_FUNC(string):\n",
    "    # type: (str) -> int\n",
    "    \"\"\"Returns CRC-32 checksum, which is 32-bit checksum of data, with given :param string:.\"\"\"\n",
    "    return binascii.crc32(string.encode()) & CRC32_MAX_HASH\n",
    "\n",
    "\n",
    "#\n",
    "# Prepare function that makes shingling-based integer from corpus.\n",
    "#\n",
    "\n",
    "def get_shingles_string_set(string, k):\n",
    "    # type: (str, int) -> set[str]\n",
    "    \"\"\"Returns sets of :param k:-shingles of given :param string:\"\"\"\n",
    "    shingle_set = set()\n",
    "    words = re.sub(r'\\s+', ' ', string).lower().split()\n",
    "    for idx in range(len(words) - k + 1):\n",
    "        shingle = ' '.join(words[idx:idx + k])\n",
    "        if shingle not in shingle_set:\n",
    "            shingle_set.add(shingle)\n",
    "    return shingle_set\n"
   ]
  },
  {
   "cell_type": "markdown",
   "metadata": {},
   "source": [
    "src 1: https://github.com/ppw0/minhash \\\n",
    "src 2: https://docs.python.org/ko/3/library/binascii.html\n"
   ]
  },
  {
   "cell_type": "markdown",
   "metadata": {},
   "source": [
    "## Integrate partial functions to one function\n",
    "This function integrates partial functions to one getter of shingling-based integer matrix."
   ]
  },
  {
   "cell_type": "code",
   "execution_count": 3,
   "metadata": {
    "pycharm": {
     "name": "#%%\n"
    }
   },
   "outputs": [],
   "source": [
    "#\n",
    "# Prepare Shortcut Functions\n",
    "#\n",
    "\n",
    "def make_shingles_int_matrix(duplicate_question_dataset, k):\n",
    "    # type: (pd.DataFrame, int) -> list[dict[str, set[int]]]\n",
    "    \"\"\"Returns lists of shingles_int_dict that function 'get_signature_matrix' requires,\n",
    "from given question dataset and number of shingles(k).\"\"\"\n",
    "    q1_q2_iter = zip(\n",
    "        duplicate_question_dataset['question1'],\n",
    "        duplicate_question_dataset['question2']\n",
    "    )\n",
    "    return [{\n",
    "        'question1': {CRC32_FUNC(val) for val in get_shingles_string_set(q_1, k)},\n",
    "        'question2': {CRC32_FUNC(val) for val in get_shingles_string_set(q_2, k)}\n",
    "    } for q_1, q_2 in q1_q2_iter]\n"
   ]
  },
  {
   "cell_type": "markdown",
   "metadata": {},
   "source": [
    "## Min-hashing Core Implement\n",
    "In docstrings and comments, there are explanations of how they work."
   ]
  },
  {
   "cell_type": "code",
   "execution_count": 4,
   "metadata": {
    "pycharm": {
     "name": "#%%\n"
    }
   },
   "outputs": [],
   "source": [
    "#\n",
    "# Implement Signature Matrix Function\n",
    "#\n",
    "\n",
    "def get_signature_matrix(shingles_int_dict, hash_func):\n",
    "    # type: (dict[str, set[int]], typing.Union[int, list[types.FunctionType]]) -> pd.DataFrame\n",
    "    \"\"\"Calculates signature matrix by dictionary and hash functions.\n",
    ":param shingles_int_dict: Dictionary's key should be name of row(e.g. 'question1'),\n",
    "and value should be set of shingle integers.\n",
    ":param hash_func: hash_func should be list of hash functions,\n",
    "or number of hash functions.\"\"\"\n",
    "    if isinstance(hash_func, int):\n",
    "        num_hash_func = hash_func\n",
    "        hash_func = get_hash_func(hash_func)\n",
    "    else:\n",
    "        num_hash_func = len(hash_func)\n",
    "    matrix_data = {}\n",
    "    for idx, shingle_set in shingles_int_dict.items():\n",
    "        signatures = []\n",
    "        for j in range(num_hash_func):\n",
    "            func = hash_func[j]\n",
    "            min_hash = CRC32_C + 1\n",
    "            for shingle in shingle_set:\n",
    "                min_hash = min(min_hash, func(shingle))\n",
    "            signatures.append(min_hash)\n",
    "        matrix_data[idx] = signatures\n",
    "    return pd.DataFrame(data=matrix_data)\n",
    "\n",
    "\n",
    "#\n",
    "# Prepare hash-function getter function.\n",
    "#\n",
    "\n",
    "def get_hash_func(num):\n",
    "    # type: (int) -> list\n",
    "    \"\"\"Randomly prepare list of :param num: hash functions which receives one integer for argument.\"\"\"\n",
    "    def _get_coefficient(_num):\n",
    "        # type: (int) -> set[int]\n",
    "        _coffs = set()\n",
    "        while _num > 0:\n",
    "            _coff = random.randint(0, CRC32_MAX_HASH)\n",
    "            if _coff not in _coffs:\n",
    "                _coffs.add(_coff)\n",
    "                _num -= 1\n",
    "        return _coffs\n",
    "    hash_func = []\n",
    "    linear = lambda x, coff_a, coff_b: (coff_a * x + coff_b) % CRC32_C\n",
    "    for a, b in zip(_get_coefficient(num), _get_coefficient(num)):\n",
    "        hash_func.append(functools.partial(linear, coff_a=a, coff_b=b))\n",
    "    return hash_func\n"
   ]
  },
  {
   "cell_type": "markdown",
   "metadata": {
    "pycharm": {
     "name": "#%% md\n"
    }
   },
   "source": [
    "## Similarity Function Implement\n",
    "I made functions that calculate similarity of two dataset."
   ]
  },
  {
   "cell_type": "code",
   "execution_count": 5,
   "metadata": {
    "pycharm": {
     "name": "#%%\n"
    }
   },
   "outputs": [],
   "source": [
    "#\n",
    "# Implement Similarity Functions\n",
    "#\n",
    "\n",
    "def jaccard_similarity(orig, comp):\n",
    "    # type: (set[int], set[int]) -> float\n",
    "    \"\"\"Calculate Jaccard similarity, by given two sets of shingles-integer values.\"\"\"\n",
    "    return len(orig.intersection(comp)) / len(orig.union(comp))\n",
    "\n",
    "\n",
    "def estimated_similarity(orig, comp, num_hash_func=None):\n",
    "    # type: (typing.Sequence[int], typing.Sequence[int], typing.Optional[int, typing.Iterable]) -> float\n",
    "    \"\"\"Calculate estimated similarity, by given two iterables of signature matrix.\"\"\"\n",
    "    if num_hash_func is None:\n",
    "        num_hash_func = min(len(orig), len(comp))\n",
    "    elif not isinstance(num_hash_func, int):\n",
    "        num_hash_func = len(num_hash_func)\n",
    "    cnt = 0\n",
    "    for idx in range(num_hash_func):\n",
    "        if orig[idx] == comp[idx]:\n",
    "            cnt += 1\n",
    "    return cnt / num_hash_func\n"
   ]
  },
  {
   "cell_type": "markdown",
   "metadata": {},
   "source": [
    "# Example Output"
   ]
  },
  {
   "cell_type": "markdown",
   "metadata": {
    "pycharm": {
     "name": "#%% md\n"
    }
   },
   "source": [
    "First, configure values for sample output."
   ]
  },
  {
   "cell_type": "code",
   "execution_count": 6,
   "metadata": {
    "pycharm": {
     "name": "#%%\n"
    }
   },
   "outputs": [],
   "source": [
    "_QUESTION_PAIR_SIZE = 10\n",
    "_SHINGLES_SIZE = 3\n",
    "_NUMBER_OF_HASH_FUNCTIONS = 1000"
   ]
  },
  {
   "cell_type": "markdown",
   "metadata": {
    "pycharm": {
     "name": "#%% md\n"
    }
   },
   "source": [
    "Then, this min-hashing implement will work like this!"
   ]
  },
  {
   "cell_type": "code",
   "execution_count": 7,
   "metadata": {
    "pycharm": {
     "name": "#%%\n"
    }
   },
   "outputs": [
    {
     "name": "stdout",
     "output_type": "stream",
     "text": [
      "Corpus of sample dataset:\n"
     ]
    },
    {
     "data": {
      "text/plain": "                                           question1  \\\n0                      How can I quit drinking cola?   \n1            What are some good ways to lose weight?   \n2  What was your experience earning a Master's de...   \n3  Which programming languages are used the most?...   \n4          How will demonitization stop black money?   \n5        What is special about David Foster Wallace?   \n6           How do women think differently from men?   \n7  Why is it compulsory to study Hindi as the thi...   \n8            Where can I hire a real bad ass hacker?   \n9      Would social media have helped Steve Bartman?   \n\n                                           question2  \n0                      How can I stop drinking cola?  \n1  What are the best ways to lose weight, especia...  \n2  What is your experience with an online master'...  \n3  Which is the most used programming language wh...  \n4       Will demonetisation really curb black money?  \n5       What is so great about David Foster Wallace?  \n6           Do men and women think differently? How?  \n7  Is it compulsory to study Hindi as the third l...  \n8              How can I hire a professional hacker?  \n9  If there had been social media in 2003, how wo...  ",
      "text/html": "<div>\n<style scoped>\n    .dataframe tbody tr th:only-of-type {\n        vertical-align: middle;\n    }\n\n    .dataframe tbody tr th {\n        vertical-align: top;\n    }\n\n    .dataframe thead th {\n        text-align: right;\n    }\n</style>\n<table border=\"1\" class=\"dataframe\">\n  <thead>\n    <tr style=\"text-align: right;\">\n      <th></th>\n      <th>question1</th>\n      <th>question2</th>\n    </tr>\n  </thead>\n  <tbody>\n    <tr>\n      <th>0</th>\n      <td>How can I quit drinking cola?</td>\n      <td>How can I stop drinking cola?</td>\n    </tr>\n    <tr>\n      <th>1</th>\n      <td>What are some good ways to lose weight?</td>\n      <td>What are the best ways to lose weight, especia...</td>\n    </tr>\n    <tr>\n      <th>2</th>\n      <td>What was your experience earning a Master's de...</td>\n      <td>What is your experience with an online master'...</td>\n    </tr>\n    <tr>\n      <th>3</th>\n      <td>Which programming languages are used the most?...</td>\n      <td>Which is the most used programming language wh...</td>\n    </tr>\n    <tr>\n      <th>4</th>\n      <td>How will demonitization stop black money?</td>\n      <td>Will demonetisation really curb black money?</td>\n    </tr>\n    <tr>\n      <th>5</th>\n      <td>What is special about David Foster Wallace?</td>\n      <td>What is so great about David Foster Wallace?</td>\n    </tr>\n    <tr>\n      <th>6</th>\n      <td>How do women think differently from men?</td>\n      <td>Do men and women think differently? How?</td>\n    </tr>\n    <tr>\n      <th>7</th>\n      <td>Why is it compulsory to study Hindi as the thi...</td>\n      <td>Is it compulsory to study Hindi as the third l...</td>\n    </tr>\n    <tr>\n      <th>8</th>\n      <td>Where can I hire a real bad ass hacker?</td>\n      <td>How can I hire a professional hacker?</td>\n    </tr>\n    <tr>\n      <th>9</th>\n      <td>Would social media have helped Steve Bartman?</td>\n      <td>If there had been social media in 2003, how wo...</td>\n    </tr>\n  </tbody>\n</table>\n</div>"
     },
     "execution_count": 7,
     "metadata": {},
     "output_type": "execute_result"
    }
   ],
   "source": [
    "sample_dataset = random_duplicate_questions(_QUESTION_PAIR_SIZE)\n",
    "print(\"Corpus of sample dataset:\")\n",
    "sample_dataset"
   ]
  },
  {
   "cell_type": "code",
   "execution_count": 8,
   "metadata": {
    "pycharm": {
     "name": "#%%\n"
    }
   },
   "outputs": [
    {
     "name": "stdout",
     "output_type": "stream",
     "text": [
      "Signature matrix of sample dataset:\n"
     ]
    },
    {
     "data": {
      "text/plain": "[      question1   question2\n 0     127123208   127123208\n 1    1598796569  1050925532\n 2     569930746    43783120\n 3     136776930   194570029\n 4     951929280  2524504031\n ..          ...         ...\n 995  1158781805   239094659\n 996   301670123   301670123\n 997   790569466  1911375552\n 998   198614737   198614737\n 999   476887906   839726361\n \n [1000 rows x 2 columns],\n       question1  question2\n 0     728625197  549819752\n 1     821406213   56331033\n 2     694208490  214349117\n 3     390235580  194885157\n 4    1380339185  454895106\n ..          ...        ...\n 995   446275889   44010930\n 996  1623338064  332059054\n 997   957214903  882596256\n 998   765239026  429504078\n 999   465008796    8149726\n \n [1000 rows x 2 columns],\n       question1   question2\n 0      84627945    44344729\n 1    1638597936   375526789\n 2      51811516   239393674\n 3     707409149   186321427\n 4    1138494306   127386938\n ..          ...         ...\n 995   860985772   250327648\n 996   139464152   549656644\n 997   737675939   384806686\n 998    74605934  1487543804\n 999  1399800083  1454850368\n \n [1000 rows x 2 columns]]"
     },
     "execution_count": 8,
     "metadata": {},
     "output_type": "execute_result"
    }
   ],
   "source": [
    "sample_hash_functions = get_hash_func(_NUMBER_OF_HASH_FUNCTIONS)\n",
    "sample_shingles = make_shingles_int_matrix(sample_dataset, k=_SHINGLES_SIZE)\n",
    "sample_signature_matrix = [get_signature_matrix(i, hash_func=sample_hash_functions) for i in sample_shingles]\n",
    "print(\"Signature matrix of sample dataset:\")\n",
    "sample_signature_matrix[:3]\n"
   ]
  },
  {
   "cell_type": "code",
   "execution_count": 9,
   "metadata": {
    "pycharm": {
     "name": "#%%\n"
    }
   },
   "outputs": [
    {
     "name": "stdout",
     "output_type": "stream",
     "text": [
      "Average Jaccard Similarities: 0.1541\n",
      "Average Estimated Similarities: 0.1541\n",
      "Average Error of Sample Datasets: 0.0036\n"
     ]
    }
   ],
   "source": [
    "sample_jaccard_sims = [\n",
    "    jaccard_similarity(i['question1'], i['question2'])\n",
    "    for i in sample_shingles\n",
    "]\n",
    "sample_estimated_sims = [\n",
    "    estimated_similarity(j['question1'], j['question2'], num_hash_func=_NUMBER_OF_HASH_FUNCTIONS)\n",
    "    for j in sample_signature_matrix\n",
    "]\n",
    "sample_similarity_errors = [\n",
    "    abs(i - j) for i, j in zip(sample_jaccard_sims, sample_estimated_sims)\n",
    "]\n",
    "sample_avg_jaccard_sim = sum(sample_jaccard_sims) / len(sample_jaccard_sims)\n",
    "sample_avg_estimated_sim = sum(sample_jaccard_sims) / len(sample_jaccard_sims)\n",
    "sample_avg_error = sum(sample_similarity_errors) / len(sample_similarity_errors)\n",
    "\n",
    "print(\"\"\"Average Jaccard Similarities: {:.4f}\n",
    "Average Estimated Similarities: {:.4f}\n",
    "Average Error of Sample Datasets: {:.4f}\"\"\".format(\n",
    "    sample_avg_jaccard_sim, sample_avg_estimated_sim, sample_avg_error\n",
    "))\n"
   ]
  },
  {
   "cell_type": "markdown",
   "metadata": {
    "pycharm": {
     "name": "#%% md\n"
    }
   },
   "source": [
    "# Evaluate Min-hashing\n",
    "Now we can evaluate model performance, \\\n",
    "with different portion of train data and epochs."
   ]
  },
  {
   "cell_type": "markdown",
   "metadata": {
    "pycharm": {
     "name": "#%% md\n"
    }
   },
   "source": [
    "## Configure range of evaluation"
   ]
  },
  {
   "cell_type": "markdown",
   "metadata": {
    "pycharm": {
     "name": "#%% md\n"
    }
   },
   "source": [
    "Configure number of question pairs"
   ]
  },
  {
   "cell_type": "code",
   "execution_count": 10,
   "metadata": {
    "pycharm": {
     "name": "#%%\n"
    }
   },
   "outputs": [],
   "source": [
    "QUESTION_PAIR_SIZE = [10, 100]"
   ]
  },
  {
   "cell_type": "markdown",
   "metadata": {
    "pycharm": {
     "name": "#%% md\n"
    }
   },
   "source": [
    "Configure size of shingles"
   ]
  },
  {
   "cell_type": "code",
   "execution_count": 11,
   "metadata": {
    "pycharm": {
     "name": "#%%\n"
    }
   },
   "outputs": [],
   "source": [
    "SHINGLES_SIZE = [3, 4, 5]"
   ]
  },
  {
   "cell_type": "markdown",
   "metadata": {
    "pycharm": {
     "name": "#%% md\n"
    }
   },
   "source": [
    "Configure number of hash functions"
   ]
  },
  {
   "cell_type": "code",
   "execution_count": 12,
   "metadata": {
    "pycharm": {
     "name": "#%%\n"
    }
   },
   "outputs": [],
   "source": [
    "NUMBER_OF_HASH_FUNCTIONS = [1, 2, 3, 4, *range(5, 1000 + 1, 5)]"
   ]
  },
  {
   "cell_type": "markdown",
   "metadata": {
    "pycharm": {
     "name": "#%% md\n"
    }
   },
   "source": [
    "## Evaluation Result"
   ]
  },
  {
   "cell_type": "code",
   "execution_count": 13,
   "metadata": {
    "pycharm": {
     "name": "#%%\n"
    }
   },
   "outputs": [
    {
     "data": {
      "text/plain": "<Figure size 432x288 with 1 Axes>",
      "image/png": "[encoded data removed]"
     },
     "metadata": {
      "needs_background": "light"
     },
     "output_type": "display_data"
    },
    {
     "data": {
      "text/plain": "<Figure size 432x288 with 1 Axes>",
      "image/png": "[encoded data removed]"
     },
     "metadata": {
      "needs_background": "light"
     },
     "output_type": "display_data"
    }
   ],
   "source": [
    "graphs_all = {}\n",
    "\n",
    "\n",
    "for size_q in QUESTION_PAIR_SIZE:  # enumerate object for reporthook\n",
    "\n",
    "    graphs_each_question = graphs_all[size_q] = {}\n",
    "    dataset = random_duplicate_questions(size_q)\n",
    "\n",
    "    for size_s in SHINGLES_SIZE:\n",
    "\n",
    "        graph = graphs_each_question[size_s] = []\n",
    "        shingles = make_shingles_int_matrix(dataset, k=size_s)\n",
    "\n",
    "        for size_h in NUMBER_OF_HASH_FUNCTIONS:\n",
    "\n",
    "            hash_functions = get_hash_func(size_h)\n",
    "            signature_matrix = [\n",
    "                get_signature_matrix(i, hash_func=hash_functions)\n",
    "                for i in sample_shingles\n",
    "            ]\n",
    "\n",
    "            sim_errs = [\n",
    "                abs(\n",
    "                    jaccard_similarity(i['question1'], i['question2'])\n",
    "                    - estimated_similarity(j['question1'], j['question2'], num_hash_func=size_h)\n",
    "                )\n",
    "                for i, j in zip(shingles, signature_matrix)\n",
    "            ]\n",
    "\n",
    "            if not sim_errs:\n",
    "                sys.exit(1)\n",
    "\n",
    "            average_error = sum(sim_errs) / len(sim_errs)\n",
    "            graph.append(average_error)\n",
    "\n",
    "\n",
    "for size_q, graphs_each_q in graphs_all.items():\n",
    "\n",
    "    for size_s, graph_y in graphs_each_q.items():\n",
    "\n",
    "        plt.plot(NUMBER_OF_HASH_FUNCTIONS, graph_y, label='k = {}'.format(size_s))\n",
    "\n",
    "    plt.xlabel('Number of used hash functions')\n",
    "    plt.ylabel('Average gap of similarities')\n",
    "    plt.title('Error - Hash functions Graph (Question: {})'.format(size_q))\n",
    "    plt.legend()\n",
    "    plt.show()\n"
   ]
  },
  {
   "cell_type": "markdown",
   "metadata": {
    "pycharm": {
     "name": "#%% md\n"
    }
   },
   "source": [
    "In graphs above, the more hash functions we use, the less gap of Jaccard similarity and estimated similarity with signature matrix there are. \n"
   ]
  },
  {
   "cell_type": "markdown",
   "metadata": {
    "pycharm": {
     "name": "#%% md\n"
    }
   },
   "source": [
    "# References"
   ]
  },
  {
   "cell_type": "markdown",
   "metadata": {
    "pycharm": {
     "name": "#%% md\n"
    }
   },
   "source": [
    "1: https://github.com/ppw0/minhash \\\n",
    "2: https://docs.python.org/ko/3/library/binascii.html"
   ]
  },
  {
   "cell_type": "markdown",
   "metadata": {
    "pycharm": {
     "is_executing": true,
     "name": "#%% md\n"
    }
   },
   "source": [
    "Thank you."
   ]
  },
  {
   "cell_type": "code",
   "execution_count": 13,
   "metadata": {
    "pycharm": {
     "name": "#%%\n"
    }
   },
   "outputs": [],
   "source": []
  }
 ],
 "metadata": {
  "kernelspec": {
   "name": "python3",
   "language": "python",
   "display_name": "Python 3"
  },
  "language_info": {
   "codemirror_mode": {
    "name": "ipython",
    "version": 3
   },
   "file_extension": ".py",
   "mimetype": "text/x-python",
   "name": "python",
   "nbconvert_exporter": "python",
   "pygments_lexer": "ipython3",
   "version": "3.8.5"
  }
 },
 "nbformat": 4,
 "nbformat_minor": 1
}